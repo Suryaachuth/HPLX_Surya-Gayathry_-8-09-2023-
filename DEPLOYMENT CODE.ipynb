{
 "cells": [
  {
   "cell_type": "code",
   "execution_count": 11,
   "id": "a56f7ea8",
   "metadata": {},
   "outputs": [],
   "source": [
    "import joblib\n",
    "import pandas as pd\n",
    "\n",
    "model = joblib.load('model.joblib')\n",
    "\n",
    "\n",
    "customer_state_encoder = joblib.load('customer_state_encoder.joblib')\n",
    "customer_city_encoder = joblib.load('customer_city_encoder.joblib')\n",
    "payment_type_encoder = joblib.load('payment_type_encoder.joblib')\n",
    "order_status_encoder = joblib.load('order_status_encoder.joblib')\n",
    "\n",
    "def predict_payment_value(zip_code_prefix, city, state, days_to_delivery, payment_type, freight_value, days_for_shipment):\n",
    "   \n",
    "    state_encoded = customer_state_encoder.transform([state])[0]\n",
    "    city_encoded = customer_city_encoder.transform([city])[0]\n",
    "    payment_type_encoded = payment_type_encoder.transform([payment_type])[0]\n",
    "    \n",
    "    \n",
    "    input_data = pd.DataFrame({\n",
    "        'customer_zip_code_prefix': [zip_code_prefix],\n",
    "        'customer_city': [city_encoded],\n",
    "        'customer_state': [state_encoded],\n",
    "        'days_to_delivery': [days_to_delivery],\n",
    "        'payment_type': [payment_type_encoded],\n",
    "        'freight_value': [freight_value],\n",
    "        'days_for_shipment': [days_for_shipment]\n",
    "    })\n",
    "    \n",
    "    \n",
    "    predicted_payment = model.predict(input_data)[0]  # Assuming a single prediction\n",
    "    \n",
    "   \n",
    "    return predicted_payment\n",
    "\n",
    "    "
   ]
  },
  {
   "cell_type": "code",
   "execution_count": 12,
   "id": "f7501e18",
   "metadata": {},
   "outputs": [
    {
     "data": {
      "text/plain": [
       "201.38338"
      ]
     },
     "execution_count": 12,
     "metadata": {},
     "output_type": "execute_result"
    }
   ],
   "source": [
    "predict_payment_value(14409,\"franca\",\"SP\",8,\"credit_card\",18,8)"
   ]
  },
  {
   "cell_type": "code",
   "execution_count": null,
   "id": "595087d5",
   "metadata": {},
   "outputs": [],
   "source": []
  }
 ],
 "metadata": {
  "kernelspec": {
   "display_name": "Python 3 (ipykernel)",
   "language": "python",
   "name": "python3"
  },
  "language_info": {
   "codemirror_mode": {
    "name": "ipython",
    "version": 3
   },
   "file_extension": ".py",
   "mimetype": "text/x-python",
   "name": "python",
   "nbconvert_exporter": "python",
   "pygments_lexer": "ipython3",
   "version": "3.11.2"
  }
 },
 "nbformat": 4,
 "nbformat_minor": 5
}
